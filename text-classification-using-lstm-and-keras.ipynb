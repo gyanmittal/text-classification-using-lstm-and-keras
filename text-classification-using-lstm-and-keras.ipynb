{
 "cells": [
  {
   "cell_type": "markdown",
   "metadata": {},
   "source": [
    "# Text Classification Example using LSTM and Keras\n",
    "In this Example we will see how we can do the binary classification using LSTM model with Keras framework.\n",
    "\n",
    "**We have used the SMS Spam Data set in our example, which is available at the following location**\n",
    "* SMS Spam Collection Data Set (https://archive.ics.uci.edu/ml/datasets/sms+spam+collection)\n",
    "\n",
    "In this example our model will learn to classify a SMS message in spam or ham. \n"
   ]
  },
  {
   "cell_type": "code",
   "execution_count": 1,
   "metadata": {},
   "outputs": [],
   "source": [
    "# Download the SMS Spam data file if doesn't exist already\n",
    "import os\n",
    "import requests # This library is used to make requests to internet\n",
    "import zipfile\n",
    "\n",
    "data_file = \"data/SMSSpamCollection\"\n",
    "\n",
    "# Download and unzip the data file in data directory in case it doesn't exists already\n",
    "if not os.path.exists(data_file):\n",
    "    data_file_dir = os.path.dirname(data_file)\n",
    "    if not os.path.exists(data_file_dir): os.makedirs(data_file_dir)\n",
    "\n",
    "    # Storing url of dataset\n",
    "    url = 'https://archive.ics.uci.edu/ml/machine-learning-databases/00228/smsspamcollection.zip'\n",
    "    r = requests.get(url, allow_redirects=True)\n",
    "    zip_file_download = data_file_dir + '/smsspamcollection.zip'\n",
    "\n",
    "    # Writing the content of above request to 'smsspamcollection.zip' file\n",
    "    open(zip_file_download, 'wb').write(r.content)\n",
    "    \n",
    "    # Extract the zip file\n",
    "    with zipfile.ZipFile(zip_file_download,\"r\") as zip_ref:\n",
    "        zip_ref.extractall(data_file_dir)\n"
   ]
  },
  {
   "cell_type": "code",
   "execution_count": 2,
   "metadata": {},
   "outputs": [
    {
     "name": "stdout",
     "output_type": "stream",
     "text": [
      "Loading data (labels and sentences) from the SMSSpamCollection file...\n",
      "[0 0 1 0 0]\n",
      "['Go until jurong point, crazy.. Available only in bugis n great world la e buffet... Cine there got amore wat...'\n",
      " 'Ok lar... Joking wif u oni...'\n",
      " \"Free entry in 2 a wkly comp to win FA Cup final tkts 21st May 2005. Text FA to 87121 to receive entry question(std txt rate)T&C's apply 08452810075over18's\"\n",
      " 'U dun say so early hor... U c already then say...'\n",
      " \"Nah I don't think he goes to usf, he lives around here though\"]\n"
     ]
    }
   ],
   "source": [
    "from util import load_data_and_labels_from_csv_file, build_vocab, pad_sentences, text_to_sequence, save_vocab_json, generate_word_level_features, customCallBack\n",
    "\n",
    "print(\"Loading data (labels and sentences) from the SMSSpamCollection file...\")\n",
    "labels, sentences = load_data_and_labels_from_csv_file(data_file)\n",
    "\n",
    "print(labels[:5])\n",
    "print(sentences[:5])"
   ]
  },
  {
   "cell_type": "code",
   "execution_count": 3,
   "metadata": {},
   "outputs": [
    {
     "data": {
      "text/plain": [
       "array([list(['go', 'until', 'jurong', 'point', 'crazy', 'available', 'only', 'in', 'bugis', 'n', 'great', 'world', 'la', 'e', 'buffet', 'cine', 'there', 'got', 'amore', 'wat']),\n",
       "       list(['ok', 'lar', 'joking', 'wif', 'u', 'oni']),\n",
       "       list(['free', 'entry', 'in', '<n/>', 'a', 'wkly', 'comp', 'to', 'win', 'fa', 'cup', 'final', 'tkts', '21st', 'may', '<n/>', 'text', 'fa', 'to', '<n/>', 'to', 'receive', 'entry', 'question', 'std', 'txt', 'rate', 't', 'cs', 'apply', '0845281075over18s']),\n",
       "       list(['u', 'dun', 'say', 'so', 'early', 'hor', 'u', 'c', 'already', 'then', 'say']),\n",
       "       list(['nah', 'i', 'dont', 'think', 'he', 'goes', 'to', 'usf', 'he', 'lives', 'around', 'here', 'though'])],\n",
       "      dtype=object)"
      ]
     },
     "execution_count": 3,
     "metadata": {},
     "output_type": "execute_result"
    }
   ],
   "source": [
    "import numpy as np\n",
    "\n",
    "# Param defining max features consider in a sentence\n",
    "params = {'max_words_features': 50} \n",
    "\n",
    "# Generate word features for every message\n",
    "lines_words_level_features = generate_word_level_features(sentences, params['max_words_features'])\n",
    "# Redefine the max_words_features in case existing data contains the \n",
    "# max word featues less then define one for all the messages\n",
    "params['max_words_features'] = max([len(lines) for lines in lines_words_level_features])\n",
    "\n",
    "# Convert to numpy array\n",
    "lines_words_level_features = np.array(lines_words_level_features)\n",
    "lines_words_level_features[:5]"
   ]
  },
  {
   "cell_type": "code",
   "execution_count": 4,
   "metadata": {},
   "outputs": [
    {
     "name": "stdout",
     "output_type": "stream",
     "text": [
      "Build the vocabulary, assigning a unique index value to every word\n",
      "0 <UNK/> [0, inf]\n",
      "1 <PAD/> [1, inf]\n",
      "2 <n/> [2, 2585]\n",
      "3 i [3, 2260]\n",
      "4 to [4, 2211]\n",
      "5 you [5, 2108]\n",
      "6 a [6, 1423]\n",
      "7 the [7, 1305]\n",
      "8 u [8, 1156]\n",
      "9 and [9, 957]\n"
     ]
    }
   ],
   "source": [
    "# Build vocabulary, assigning a unique index value to every word\n",
    "# Special tokens <UNK/> for unknown words, <PAD/> for padding a sentence, \n",
    "# Other special tokens are <n\\> if a word contains all numeric charactrs, \n",
    "# and <sd\\> is all special characters with or without digits\n",
    "print(\"Build the vocabulary, assigning a unique index value to every word\")\n",
    "vocabulary = build_vocab(lines_words_level_features, max_vocab_size=10000)\n",
    "\n",
    "import itertools \n",
    "# Print 10 Vocabulary items\n",
    "for i, val in enumerate(itertools.islice(vocabulary, 10)):\n",
    "    print(i, val, vocabulary[val])"
   ]
  },
  {
   "cell_type": "code",
   "execution_count": 5,
   "metadata": {},
   "outputs": [
    {
     "name": "stdout",
     "output_type": "stream",
     "text": [
      "Padding sentences...\n",
      "The sequence length is:  50\n"
     ]
    },
    {
     "data": {
      "text/plain": [
       "['go',\n",
       " 'until',\n",
       " 'jurong',\n",
       " 'point',\n",
       " 'crazy',\n",
       " 'available',\n",
       " 'only',\n",
       " 'in',\n",
       " 'bugis',\n",
       " 'n',\n",
       " 'great',\n",
       " 'world',\n",
       " 'la',\n",
       " 'e',\n",
       " 'buffet',\n",
       " 'cine',\n",
       " 'there',\n",
       " 'got',\n",
       " 'amore',\n",
       " 'wat',\n",
       " '<PAD/>',\n",
       " '<PAD/>',\n",
       " '<PAD/>',\n",
       " '<PAD/>',\n",
       " '<PAD/>',\n",
       " '<PAD/>',\n",
       " '<PAD/>',\n",
       " '<PAD/>',\n",
       " '<PAD/>',\n",
       " '<PAD/>']"
      ]
     },
     "execution_count": 5,
     "metadata": {},
     "output_type": "execute_result"
    }
   ],
   "source": [
    "# Pad sentence\n",
    "print(\"Padding sentences...\")\n",
    "x_text = pad_sentences(lines_words_level_features, max_sequence_length=params['max_words_features'])\n",
    "\n",
    "# Get max sequence length, should be equal to max_words_features\n",
    "seq_len = len(x_text[0]) \n",
    "print(\"The sequence length is: \", seq_len)\n",
    "x_text[0][:30]"
   ]
  },
  {
   "cell_type": "code",
   "execution_count": 6,
   "metadata": {},
   "outputs": [
    {
     "data": {
      "text/plain": [
       "array([  48,  441,    0,  776,  701,  670,   66,   10, 1217,   95,  128,\n",
       "        370, 1218,  149, 2765, 1219,   72,   59,    0,  141,    1,    1,\n",
       "          1,    1,    1,    1,    1,    1,    1,    1,    1,    1,    1,\n",
       "          1,    1,    1,    1,    1,    1,    1,    1,    1,    1,    1,\n",
       "          1,    1,    1,    1,    1,    1])"
      ]
     },
     "execution_count": 6,
     "metadata": {},
     "output_type": "execute_result"
    }
   ],
   "source": [
    "# Represent sentence with word index, using word index to represent a sentence\n",
    "x = text_to_sequence(x_text, vocabulary)\n",
    "x[0]"
   ]
  },
  {
   "cell_type": "code",
   "execution_count": 7,
   "metadata": {},
   "outputs": [
    {
     "name": "stdout",
     "output_type": "stream",
     "text": [
      "[[  50  181    0  181    0  132   66 1194  227  215   35 1330 2498   18\n",
      "     2  480  197    2   85   91  437   18    2    1    1    1    1    1\n",
      "     1    1    1    1    1    1    1    1    1    1    1    1    1    1\n",
      "     1    1    1    1    1    1    1    1]\n",
      " [  22   66    3  958   82    3   65  168  842   22    3   37   63 3222\n",
      "     1    1    1    1    1    1    1    1    1    1    1    1    1    1\n",
      "     1    1    1    1    1    1    1    1    1    1    1    1    1    1\n",
      "     1    1    1    1    1    1    1    1]\n",
      " [  26  256    0    4  359 1990   24   10  416    1    1    1    1    1\n",
      "     1    1    1    1    1    1    1    1    1    1    1    1    1    1\n",
      "     1    1    1    1    1    1    1    1    1    1    1    1    1    1\n",
      "     1    1    1    1    1    1    1    1]]\n",
      "[1 0 0]\n"
     ]
    }
   ],
   "source": [
    "# Shuffle data\n",
    "#np.random.seed(1) #same shuffling each time\n",
    "shuffle_indices = np.random.permutation(np.arange(len(labels)))\n",
    "x = x[shuffle_indices]\n",
    "labels = labels[shuffle_indices]\n",
    "print(x[:3])\n",
    "print(labels[:3])"
   ]
  },
  {
   "cell_type": "code",
   "execution_count": 8,
   "metadata": {},
   "outputs": [
    {
     "name": "stdout",
     "output_type": "stream",
     "text": [
      "Model: \"sequential\"\n",
      "_________________________________________________________________\n",
      "Layer (type)                 Output Shape              Param #   \n",
      "=================================================================\n",
      "embedding (Embedding)        (None, 50, 100)           404200    \n",
      "_________________________________________________________________\n",
      "dropout (Dropout)            (None, 50, 100)           0         \n",
      "_________________________________________________________________\n",
      "lstm (LSTM)                  (None, 512)               1255424   \n",
      "_________________________________________________________________\n",
      "dropout_1 (Dropout)          (None, 512)               0         \n",
      "_________________________________________________________________\n",
      "dense (Dense)                (None, 1)                 513       \n",
      "=================================================================\n",
      "Total params: 1,660,137\n",
      "Trainable params: 1,660,137\n",
      "Non-trainable params: 0\n",
      "_________________________________________________________________\n",
      "None\n"
     ]
    }
   ],
   "source": [
    "import keras\n",
    "from keras.layers import Embedding, Dropout, LSTM, Dense\n",
    "from keras.models import Sequential\n",
    "\n",
    "\"\"\"\n",
    "## Build LSTM model\n",
    "\"\"\"\n",
    "vocab_size_or_total_features = len(vocabulary) \n",
    "\n",
    "embed_dim = 100 \n",
    "embedding_dropout_factor = 0.2 \n",
    "recurrent_dropout_factor = 0.2 \n",
    "LSTM_dropout_factor = 0.2 \n",
    "layer_dropout_factor = 0.2 \n",
    "LSTM_layer_sizes = [512]\n",
    "\n",
    "model = Sequential()\n",
    "model.add(Embedding(vocab_size_or_total_features, embed_dim, input_length=seq_len))\n",
    "model.add(Dropout(embedding_dropout_factor))\n",
    "\"\"\"\n",
    "for size in LSTM_layer_sizes[:-1]:\n",
    "    model.add(LSTM(units=size, return_sequences=True,\n",
    "                       recurrent_dropout=recurrent_dropout_factor,\n",
    "                       dropout=LSTM_dropout_factor))\n",
    "    model.add(Dropout(layer_dropout_factor))\n",
    "\"\"\"\n",
    "model.add(LSTM(units=LSTM_layer_sizes[-1], recurrent_dropout=recurrent_dropout_factor, dropout=LSTM_dropout_factor))\n",
    "model.add(Dropout(layer_dropout_factor))\n",
    "model.add(Dense(1, activation='sigmoid'))\n",
    "\n",
    "print(model.summary())"
   ]
  },
  {
   "cell_type": "code",
   "execution_count": 9,
   "metadata": {},
   "outputs": [
    {
     "name": "stdout",
     "output_type": "stream",
     "text": [
      "Traning Model...\n",
      "Epoch 1/50\n",
      "  1/140 [..............................] - ETA: 0s - loss: 0.7061 - accuracy: 0.0938WARNING:tensorflow:From /usr/local/lib/python3.8/site-packages/tensorflow/python/ops/summary_ops_v2.py:1277: stop (from tensorflow.python.eager.profiler) is deprecated and will be removed after 2020-07-01.\n",
      "Instructions for updating:\n",
      "use `tf.profiler.experimental.stop` instead.\n",
      "140/140 [==============================] - ETA: 0s - loss: 0.6185 - accuracy: 0.7733Saving as validation accuracy increased from  2.2250738585072014e-308  to  0.870851993560791\n",
      "WARNING:tensorflow:From /usr/local/lib/python3.8/site-packages/tensorflow/python/training/tracking/tracking.py:111: Model.state_updates (from tensorflow.python.keras.engine.training) is deprecated and will be removed in a future version.\n",
      "Instructions for updating:\n",
      "This property should not be used in TensorFlow 2.0, as updates are applied automatically.\n",
      "WARNING:tensorflow:From /usr/local/lib/python3.8/site-packages/tensorflow/python/training/tracking/tracking.py:111: Layer.updates (from tensorflow.python.keras.engine.base_layer) is deprecated and will be removed in a future version.\n",
      "Instructions for updating:\n",
      "This property should not be used in TensorFlow 2.0, as updates are applied automatically.\n",
      "INFO:tensorflow:Assets written to: model/cp.ckpt/assets\n",
      "140/140 [==============================] - 62s 446ms/step - loss: 0.6185 - accuracy: 0.7733 - val_loss: 0.3291 - val_accuracy: 0.8709\n",
      "Epoch 2/50\n",
      "140/140 [==============================] - ETA: 0s - loss: 0.3192 - accuracy: 0.8648Saving as accuracy increased from  0.7732675671577454  to  0.8647679090499878  without any compromise with validation accuracy\n",
      "INFO:tensorflow:Assets written to: model/cp.ckpt/assets\n",
      "140/140 [==============================] - 129s 923ms/step - loss: 0.3192 - accuracy: 0.8648 - val_loss: 0.2945 - val_accuracy: 0.8709\n",
      "Epoch 3/50\n",
      "140/140 [==============================] - ETA: 0s - loss: 0.2955 - accuracy: 0.8648No improvement for the last  1  epochs\n",
      "140/140 [==============================] - 86s 613ms/step - loss: 0.2955 - accuracy: 0.8648 - val_loss: 0.2649 - val_accuracy: 0.8700\n",
      "Epoch 4/50\n",
      "140/140 [==============================] - ETA: 0s - loss: 0.2495 - accuracy: 0.8789Saving as validation accuracy increased from  0.870851993560791  to  0.9533632397651672\n",
      "INFO:tensorflow:Assets written to: model/cp.ckpt/assets\n",
      "140/140 [==============================] - 89s 636ms/step - loss: 0.2495 - accuracy: 0.8789 - val_loss: 0.1793 - val_accuracy: 0.9534\n",
      "Epoch 5/50\n",
      "140/140 [==============================] - ETA: 0s - loss: 0.1360 - accuracy: 0.9574Saving as validation accuracy increased from  0.9533632397651672  to  0.9668161273002625\n",
      "INFO:tensorflow:Assets written to: model/cp.ckpt/assets\n",
      "140/140 [==============================] - 93s 668ms/step - loss: 0.1360 - accuracy: 0.9574 - val_loss: 0.1077 - val_accuracy: 0.9668\n",
      "Epoch 6/50\n",
      "140/140 [==============================] - ETA: 0s - loss: 0.1071 - accuracy: 0.9648Saving as validation accuracy increased from  0.9668161273002625  to  0.9686098694801331\n",
      "INFO:tensorflow:Assets written to: model/cp.ckpt/assets\n",
      "140/140 [==============================] - 93s 662ms/step - loss: 0.1071 - accuracy: 0.9648 - val_loss: 0.0933 - val_accuracy: 0.9686\n",
      "Epoch 7/50\n",
      "140/140 [==============================] - ETA: 0s - loss: 0.0979 - accuracy: 0.9677Saving as validation accuracy increased from  0.9686098694801331  to  0.9695067405700684\n",
      "INFO:tensorflow:Assets written to: model/cp.ckpt/assets\n",
      "140/140 [==============================] - 90s 646ms/step - loss: 0.0979 - accuracy: 0.9677 - val_loss: 0.0871 - val_accuracy: 0.9695\n",
      "Epoch 8/50\n",
      "140/140 [==============================] - ETA: 0s - loss: 0.0834 - accuracy: 0.9758Saving as validation accuracy increased from  0.9695067405700684  to  0.9721972942352295\n",
      "INFO:tensorflow:Assets written to: model/cp.ckpt/assets\n",
      "140/140 [==============================] - 99s 704ms/step - loss: 0.0834 - accuracy: 0.9758 - val_loss: 0.0840 - val_accuracy: 0.9722\n",
      "Epoch 9/50\n",
      "140/140 [==============================] - ETA: 0s - loss: 0.0794 - accuracy: 0.9758No improvement for the last  1  epochs\n",
      "140/140 [==============================] - 96s 682ms/step - loss: 0.0794 - accuracy: 0.9758 - val_loss: 0.0803 - val_accuracy: 0.9722\n",
      "Epoch 10/50\n",
      "140/140 [==============================] - ETA: 0s - loss: 0.0810 - accuracy: 0.9749Saving as validation accuracy increased from  0.9721972942352295  to  0.9748879075050354\n",
      "INFO:tensorflow:Assets written to: model/cp.ckpt/assets\n",
      "140/140 [==============================] - 94s 669ms/step - loss: 0.0810 - accuracy: 0.9749 - val_loss: 0.0769 - val_accuracy: 0.9749\n",
      "Epoch 11/50\n",
      "140/140 [==============================] - ETA: 0s - loss: 0.0736 - accuracy: 0.9773Saving as accuracy increased from  0.9748822450637817  to  0.9773491621017456  without any compromise with validation accuracy\n",
      "INFO:tensorflow:Assets written to: model/cp.ckpt/assets\n",
      "140/140 [==============================] - 92s 655ms/step - loss: 0.0736 - accuracy: 0.9773 - val_loss: 0.0738 - val_accuracy: 0.9749\n",
      "Epoch 12/50\n",
      "140/140 [==============================] - ETA: 0s - loss: 0.0705 - accuracy: 0.9798Saving as validation accuracy increased from  0.9748879075050354  to  0.9793722033500671\n",
      "INFO:tensorflow:Assets written to: model/cp.ckpt/assets\n",
      "140/140 [==============================] - 99s 705ms/step - loss: 0.0705 - accuracy: 0.9798 - val_loss: 0.0732 - val_accuracy: 0.9794\n",
      "Epoch 13/50\n",
      "140/140 [==============================] - ETA: 0s - loss: 0.0680 - accuracy: 0.9778No improvement for the last  1  epochs\n",
      "140/140 [==============================] - 91s 651ms/step - loss: 0.0680 - accuracy: 0.9778 - val_loss: 0.0704 - val_accuracy: 0.9767\n",
      "Epoch 14/50\n",
      "140/140 [==============================] - ETA: 0s - loss: 0.0636 - accuracy: 0.9803No improvement for the last  2  epochs\n",
      "140/140 [==============================] - 79s 567ms/step - loss: 0.0636 - accuracy: 0.9803 - val_loss: 0.0682 - val_accuracy: 0.9776\n",
      "Epoch 15/50\n",
      "140/140 [==============================] - ETA: 0s - loss: 0.0598 - accuracy: 0.9807No improvement for the last  3  epochs\n",
      "140/140 [==============================] - 70s 498ms/step - loss: 0.0598 - accuracy: 0.9807 - val_loss: 0.0668 - val_accuracy: 0.9767\n",
      "Epoch 16/50\n",
      "140/140 [==============================] - ETA: 0s - loss: 0.0515 - accuracy: 0.9850Saving as validation accuracy increased from  0.9793722033500671  to  0.9802690744400024\n",
      "INFO:tensorflow:Assets written to: model/cp.ckpt/assets\n",
      "140/140 [==============================] - 71s 506ms/step - loss: 0.0515 - accuracy: 0.9850 - val_loss: 0.0709 - val_accuracy: 0.9803\n",
      "Epoch 17/50\n",
      "140/140 [==============================] - ETA: 0s - loss: 0.0509 - accuracy: 0.9865Saving as accuracy increased from  0.984974205493927  to  0.9865440726280212  without any compromise with validation accuracy\n",
      "INFO:tensorflow:Assets written to: model/cp.ckpt/assets\n",
      "140/140 [==============================] - 79s 562ms/step - loss: 0.0509 - accuracy: 0.9865 - val_loss: 0.0677 - val_accuracy: 0.9803\n",
      "Epoch 18/50\n",
      "140/140 [==============================] - ETA: 0s - loss: 0.0509 - accuracy: 0.9852Saving as validation accuracy increased from  0.9802690744400024  to  0.9811659455299377\n",
      "INFO:tensorflow:Assets written to: model/cp.ckpt/assets\n",
      "140/140 [==============================] - 83s 592ms/step - loss: 0.0509 - accuracy: 0.9852 - val_loss: 0.0648 - val_accuracy: 0.9812\n",
      "Epoch 19/50\n",
      "140/140 [==============================] - ETA: 0s - loss: 0.0469 - accuracy: 0.9852No improvement for the last  1  epochs\n",
      "140/140 [==============================] - 80s 569ms/step - loss: 0.0469 - accuracy: 0.9852 - val_loss: 0.0638 - val_accuracy: 0.9794\n",
      "Epoch 20/50\n",
      "140/140 [==============================] - ETA: 0s - loss: 0.0449 - accuracy: 0.9870Saving as validation accuracy increased from  0.9811659455299377  to  0.9829596281051636\n",
      "INFO:tensorflow:Assets written to: model/cp.ckpt/assets\n",
      "140/140 [==============================] - 83s 594ms/step - loss: 0.0449 - accuracy: 0.9870 - val_loss: 0.0673 - val_accuracy: 0.9830\n",
      "Epoch 21/50\n",
      "140/140 [==============================] - ETA: 0s - loss: 0.0430 - accuracy: 0.9850No improvement for the last  1  epochs\n",
      "140/140 [==============================] - 83s 591ms/step - loss: 0.0430 - accuracy: 0.9850 - val_loss: 0.0641 - val_accuracy: 0.9794\n"
     ]
    },
    {
     "name": "stdout",
     "output_type": "stream",
     "text": [
      "Epoch 22/50\n",
      "140/140 [==============================] - ETA: 0s - loss: 0.0425 - accuracy: 0.9863No improvement for the last  2  epochs\n",
      "140/140 [==============================] - 80s 569ms/step - loss: 0.0425 - accuracy: 0.9863 - val_loss: 0.0625 - val_accuracy: 0.9803\n",
      "Epoch 23/50\n",
      "140/140 [==============================] - ETA: 0s - loss: 0.0408 - accuracy: 0.9881No improvement for the last  3  epochs\n",
      "140/140 [==============================] - 82s 588ms/step - loss: 0.0408 - accuracy: 0.9881 - val_loss: 0.0615 - val_accuracy: 0.9803\n",
      "Epoch 24/50\n",
      "140/140 [==============================] - ETA: 0s - loss: 0.0391 - accuracy: 0.9879No improvement for the last  4  epochs\n",
      "140/140 [==============================] - 80s 571ms/step - loss: 0.0391 - accuracy: 0.9879 - val_loss: 0.0603 - val_accuracy: 0.9794\n",
      "Epoch 25/50\n",
      "140/140 [==============================] - ETA: 0s - loss: 0.0369 - accuracy: 0.9886No improvement for the last  5  epochs\n",
      "140/140 [==============================] - 87s 624ms/step - loss: 0.0369 - accuracy: 0.9886 - val_loss: 0.0599 - val_accuracy: 0.9821\n",
      "Epoch 26/50\n",
      "140/140 [==============================] - ETA: 0s - loss: 0.0400 - accuracy: 0.9872Saving as validation accuracy increased from  0.9829596281051636  to  0.9838564991950989\n",
      "INFO:tensorflow:Assets written to: model/cp.ckpt/assets\n",
      "140/140 [==============================] - 84s 599ms/step - loss: 0.0400 - accuracy: 0.9872 - val_loss: 0.0601 - val_accuracy: 0.9839\n",
      "Epoch 27/50\n",
      "140/140 [==============================] - ETA: 0s - loss: 0.0350 - accuracy: 0.9890No improvement for the last  1  epochs\n",
      "140/140 [==============================] - 84s 598ms/step - loss: 0.0350 - accuracy: 0.9890 - val_loss: 0.0598 - val_accuracy: 0.9803\n",
      "Epoch 28/50\n",
      "140/140 [==============================] - ETA: 0s - loss: 0.0347 - accuracy: 0.9904Saving as validation accuracy increased from  0.9838564991950989  to  0.9856502413749695\n",
      "INFO:tensorflow:Assets written to: model/cp.ckpt/assets\n",
      "140/140 [==============================] - 85s 605ms/step - loss: 0.0347 - accuracy: 0.9904 - val_loss: 0.0584 - val_accuracy: 0.9857\n",
      "Epoch 29/50\n",
      "140/140 [==============================] - ETA: 0s - loss: 0.0336 - accuracy: 0.9890No improvement for the last  1  epochs\n",
      "140/140 [==============================] - 81s 578ms/step - loss: 0.0336 - accuracy: 0.9890 - val_loss: 0.0573 - val_accuracy: 0.9794\n",
      "Epoch 30/50\n",
      "140/140 [==============================] - ETA: 0s - loss: 0.0282 - accuracy: 0.9922No improvement for the last  2  epochs\n",
      "140/140 [==============================] - 81s 581ms/step - loss: 0.0282 - accuracy: 0.9922 - val_loss: 0.0617 - val_accuracy: 0.9848\n",
      "Epoch 31/50\n",
      "140/140 [==============================] - ETA: 0s - loss: 0.0308 - accuracy: 0.9892No improvement for the last  3  epochs\n",
      "140/140 [==============================] - 84s 603ms/step - loss: 0.0308 - accuracy: 0.9892 - val_loss: 0.0558 - val_accuracy: 0.9848\n",
      "Epoch 32/50\n",
      "140/140 [==============================] - ETA: 0s - loss: 0.0301 - accuracy: 0.9913No improvement for the last  4  epochs\n",
      "140/140 [==============================] - 83s 592ms/step - loss: 0.0301 - accuracy: 0.9913 - val_loss: 0.0603 - val_accuracy: 0.9848\n",
      "Epoch 33/50\n",
      "140/140 [==============================] - ETA: 0s - loss: 0.0307 - accuracy: 0.9897No improvement for the last  5  epochs\n",
      "140/140 [==============================] - 71s 509ms/step - loss: 0.0307 - accuracy: 0.9897 - val_loss: 0.0572 - val_accuracy: 0.9839\n",
      "Epoch 34/50\n",
      "140/140 [==============================] - ETA: 0s - loss: 0.0292 - accuracy: 0.9908No improvement for the last  6  epochs\n",
      "140/140 [==============================] - 72s 517ms/step - loss: 0.0292 - accuracy: 0.9908 - val_loss: 0.0544 - val_accuracy: 0.9839\n",
      "Epoch 35/50\n",
      "140/140 [==============================] - ETA: 0s - loss: 0.0286 - accuracy: 0.9906Saving as validation accuracy increased from  0.9856502413749695  to  0.9865471124649048\n",
      "INFO:tensorflow:Assets written to: model/cp.ckpt/assets\n",
      "140/140 [==============================] - 116s 829ms/step - loss: 0.0286 - accuracy: 0.9906 - val_loss: 0.0568 - val_accuracy: 0.9865\n",
      "Epoch 36/50\n",
      "140/140 [==============================] - ETA: 0s - loss: 0.0227 - accuracy: 0.9930No improvement for the last  1  epochs\n",
      "140/140 [==============================] - 111s 791ms/step - loss: 0.0227 - accuracy: 0.9930 - val_loss: 0.0623 - val_accuracy: 0.9848\n",
      "Epoch 37/50\n",
      "140/140 [==============================] - ETA: 0s - loss: 0.0269 - accuracy: 0.9915No improvement for the last  2  epochs\n",
      "140/140 [==============================] - 81s 576ms/step - loss: 0.0269 - accuracy: 0.9915 - val_loss: 0.0548 - val_accuracy: 0.9839\n",
      "Epoch 38/50\n",
      "140/140 [==============================] - ETA: 0s - loss: 0.0249 - accuracy: 0.9928Saving as accuracy increased from  0.9905808568000793  to  0.9928234815597534  without any compromise with validation accuracy\n",
      "INFO:tensorflow:Assets written to: model/cp.ckpt/assets\n",
      "140/140 [==============================] - 92s 656ms/step - loss: 0.0249 - accuracy: 0.9928 - val_loss: 0.0587 - val_accuracy: 0.9865\n",
      "Epoch 39/50\n",
      "140/140 [==============================] - ETA: 0s - loss: 0.0246 - accuracy: 0.9933Saving as accuracy increased from  0.9928234815597534  to  0.9932720065116882  without any compromise with validation accuracy\n",
      "INFO:tensorflow:Assets written to: model/cp.ckpt/assets\n",
      "140/140 [==============================] - 93s 663ms/step - loss: 0.0246 - accuracy: 0.9933 - val_loss: 0.0537 - val_accuracy: 0.9865\n",
      "Epoch 40/50\n",
      "140/140 [==============================] - ETA: 0s - loss: 0.0237 - accuracy: 0.9930No improvement for the last  1  epochs\n",
      "140/140 [==============================] - 108s 773ms/step - loss: 0.0237 - accuracy: 0.9930 - val_loss: 0.0590 - val_accuracy: 0.9848\n",
      "Epoch 41/50\n",
      "140/140 [==============================] - ETA: 0s - loss: 0.0240 - accuracy: 0.9928No improvement for the last  2  epochs\n",
      "140/140 [==============================] - 82s 588ms/step - loss: 0.0240 - accuracy: 0.9928 - val_loss: 0.0565 - val_accuracy: 0.9839\n",
      "Epoch 42/50\n",
      "140/140 [==============================] - ETA: 0s - loss: 0.0222 - accuracy: 0.9922No improvement for the last  3  epochs\n",
      "140/140 [==============================] - 79s 562ms/step - loss: 0.0222 - accuracy: 0.9922 - val_loss: 0.0564 - val_accuracy: 0.9830\n",
      "Epoch 43/50\n",
      "140/140 [==============================] - ETA: 0s - loss: 0.0180 - accuracy: 0.9937Saving as accuracy increased from  0.9932720065116882  to  0.9937205910682678  without any compromise with validation accuracy\n",
      "INFO:tensorflow:Assets written to: model/cp.ckpt/assets\n",
      "140/140 [==============================] - 90s 643ms/step - loss: 0.0180 - accuracy: 0.9937 - val_loss: 0.0593 - val_accuracy: 0.9865\n",
      "Epoch 44/50\n",
      "140/140 [==============================] - ETA: 0s - loss: 0.0209 - accuracy: 0.9926Saving as validation accuracy increased from  0.9865471124649048  to  0.9874439239501953\n",
      "INFO:tensorflow:Assets written to: model/cp.ckpt/assets\n",
      "140/140 [==============================] - 75s 536ms/step - loss: 0.0209 - accuracy: 0.9926 - val_loss: 0.0540 - val_accuracy: 0.9874\n",
      "Epoch 45/50\n",
      "140/140 [==============================] - ETA: 0s - loss: 0.0189 - accuracy: 0.9942Saving as validation accuracy increased from  0.9874439239501953  to  0.9892376661300659\n",
      "INFO:tensorflow:Assets written to: model/cp.ckpt/assets\n",
      "140/140 [==============================] - 69s 492ms/step - loss: 0.0189 - accuracy: 0.9942 - val_loss: 0.0517 - val_accuracy: 0.9892\n",
      "Epoch 46/50\n",
      "140/140 [==============================] - ETA: 0s - loss: 0.0203 - accuracy: 0.9946No improvement for the last  1  epochs\n",
      "140/140 [==============================] - 64s 458ms/step - loss: 0.0203 - accuracy: 0.9946 - val_loss: 0.0544 - val_accuracy: 0.9874\n",
      "Epoch 47/50\n",
      "140/140 [==============================] - ETA: 0s - loss: 0.0193 - accuracy: 0.9933No improvement for the last  2  epochs\n",
      "140/140 [==============================] - 68s 483ms/step - loss: 0.0193 - accuracy: 0.9933 - val_loss: 0.0548 - val_accuracy: 0.9865\n",
      "Epoch 48/50\n",
      "140/140 [==============================] - ETA: 0s - loss: 0.0199 - accuracy: 0.9939No improvement for the last  3  epochs\n",
      "140/140 [==============================] - 66s 471ms/step - loss: 0.0199 - accuracy: 0.9939 - val_loss: 0.0592 - val_accuracy: 0.9883\n"
     ]
    },
    {
     "name": "stdout",
     "output_type": "stream",
     "text": [
      "Epoch 49/50\n",
      "140/140 [==============================] - ETA: 0s - loss: 0.0198 - accuracy: 0.9939No improvement for the last  4  epochs\n",
      "140/140 [==============================] - 64s 454ms/step - loss: 0.0198 - accuracy: 0.9939 - val_loss: 0.0540 - val_accuracy: 0.9874\n",
      "Epoch 50/50\n",
      "140/140 [==============================] - ETA: 0s - loss: 0.0173 - accuracy: 0.9946No improvement for the last  5  epochs\n",
      "140/140 [==============================] - 66s 473ms/step - loss: 0.0173 - accuracy: 0.9946 - val_loss: 0.0629 - val_accuracy: 0.9848\n"
     ]
    }
   ],
   "source": [
    "from keras.callbacks import ModelCheckpoint \n",
    "from keras.optimizers import Adam\n",
    "\n",
    "checkpoint_path = \"model/cp.ckpt\"\n",
    "checkpoint_dir = os.path.dirname(checkpoint_path)\n",
    "\n",
    "# Create check_point dir if not already exists\n",
    "if not os.path.exists(checkpoint_dir): os.makedirs(checkpoint_dir)\n",
    "\n",
    "# Save Vocabulary in checkpoint directory\n",
    "vocab_file = checkpoint_dir + \"/vocab.json\"\n",
    "save_vocab_json(vocab_file, vocabulary, params)\n",
    "\n",
    "# Define the checkpoint\n",
    "checkpoint = ModelCheckpoint(filepath=checkpoint_path,  monitor='val_accuracy', verbose=1, save_best_only=True, mode='auto') # Create callback to save the weights\n",
    "# Trnsorboard settings\n",
    "tensorboard_callback = keras.callbacks.TensorBoard(log_dir=checkpoint_dir, histogram_freq=0)\n",
    "# Optimizer settings\n",
    "adam = Adam(lr=1e-5, beta_1=0.9, beta_2=0.999, epsilon=1e-08, decay=1e-8)\n",
    "model.compile(optimizer=adam, loss='binary_crossentropy', metrics=['accuracy'])\n",
    "\n",
    "# Paameters\n",
    "epochs = 50\n",
    "batch_size = 32\n",
    "verbose = 1\n",
    "validation_split = 0.2\n",
    "max_patience = 20\n",
    "\n",
    "print(\"Traning Model...\")\n",
    "callbacks=[customCallBack(model, checkpoint_path, max_patience=max_patience), tensorboard_callback]\n",
    "history=model.fit(x, labels, batch_size=batch_size, epochs=epochs, verbose=verbose, validation_split=validation_split, callbacks=callbacks)\n"
   ]
  },
  {
   "cell_type": "code",
   "execution_count": 10,
   "metadata": {},
   "outputs": [
    {
     "name": "stdout",
     "output_type": "stream",
     "text": [
      "dict_keys(['loss', 'accuracy', 'val_loss', 'val_accuracy'])\n"
     ]
    },
    {
     "data": {
      "image/png": "[encoded data removed]",
      "text/plain": [
       "<Figure size 432x288 with 1 Axes>"
      ]
     },
     "metadata": {
      "needs_background": "light"
     },
     "output_type": "display_data"
    },
    {
     "data": {
      "image/png": "[encoded data removed]",
      "text/plain": [
       "<Figure size 432x288 with 1 Axes>"
      ]
     },
     "metadata": {
      "needs_background": "light"
     },
     "output_type": "display_data"
    }
   ],
   "source": [
    "# Plot the accuracy, Val_accuracy and loss\n",
    "import matplotlib.pyplot as plt\n",
    "\n",
    "# list all data in history\n",
    "print(history.history.keys())\n",
    "# summarize history for accuracy\n",
    "plt.plot(history.history['accuracy'])\n",
    "plt.plot(history.history['val_accuracy'])\n",
    "plt.title('model accuracy')\n",
    "plt.ylabel('accuracy')\n",
    "plt.xlabel('epoch')\n",
    "plt.legend(['train', 'test'], loc='upper left')\n",
    "plt.show()\n",
    "# summarize history for loss\n",
    "plt.plot(history.history['loss'])\n",
    "plt.plot(history.history['val_loss'])\n",
    "plt.title('model loss')\n",
    "plt.ylabel('loss')\n",
    "plt.xlabel('epoch')\n",
    "plt.legend(['train', 'test'], loc='upper left')\n",
    "plt.show()"
   ]
  },
  {
   "cell_type": "code",
   "execution_count": 11,
   "metadata": {},
   "outputs": [
    {
     "name": "stdout",
     "output_type": "stream",
     "text": [
      "Generate predictions\n",
      "Text is: \t Free entry in 2 a wkly comp to win FA Cup final tkts 21st May 2005. Text FA to 87121 to receive entry question(std txt rate)T&C's apply 08452810075over18's\n",
      "predicted spam with spam prob  [0.9999218]\n",
      "Text is: \t I'm gonna be home soon and i don't want to talk about this stuff anymore tonight, k? I've cried enough today.\n",
      "predicted ham with spam prob  [0.00041172]\n"
     ]
    }
   ],
   "source": [
    "# Prediction of given text\n",
    "\n",
    "x_text = [\"Free entry in 2 a wkly comp to win FA Cup final tkts 21st May 2005. Text FA to 87121 to receive entry question(std txt rate)T&C's apply 08452810075over18's\", \n",
    "          \"I'm gonna be home soon and i don't want to talk about this stuff anymore tonight, k? I've cried enough today.\"]\n",
    "\n",
    "lines_words_level_features = generate_word_level_features(x_text, params['max_words_features'])\n",
    "lines_words_level_features = np.array(lines_words_level_features)\n",
    "\n",
    "seq_len = params['max_words_features'] \n",
    "\n",
    "x = pad_sentences(lines_words_level_features, max_sequence_length=seq_len, is_max_sequence_length_modifiable=False)\n",
    "x = text_to_sequence(x, vocabulary)\n",
    "\n",
    "print(\"Generate predictions\")\n",
    "predictions = model.predict(x)\n",
    "count = 0 \n",
    "for text in x_text:\n",
    "    print(\"Text is: \\t\", text)\n",
    "    if (predictions[count] > 0.5):\n",
    "        print(\"predicted spam with spam prob \", predictions[count])\n",
    "    else:\n",
    "        print(\"predicted ham with spam prob \", predictions[count])\n",
    "    count += 1 \n"
   ]
  },
  {
   "cell_type": "code",
   "execution_count": null,
   "metadata": {},
   "outputs": [],
   "source": []
  }
 ],
 "metadata": {
  "kernelspec": {
   "display_name": "Python 3",
   "language": "python",
   "name": "python3"
  },
  "language_info": {
   "codemirror_mode": {
    "name": "ipython",
    "version": 3
   },
   "file_extension": ".py",
   "mimetype": "text/x-python",
   "name": "python",
   "nbconvert_exporter": "python",
   "pygments_lexer": "ipython3",
   "version": "3.8.6"
  }
 },
 "nbformat": 4,
 "nbformat_minor": 4
}
