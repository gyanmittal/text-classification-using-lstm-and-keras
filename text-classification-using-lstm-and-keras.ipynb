{
 "cells": [
  {
   "cell_type": "markdown",
   "metadata": {},
   "source": [
    "# Text Classification Example using LSTM and Keras\n",
    "In this Example we will see how we can do the binary classification using LSTM model with Keras framework.\n",
    "\n",
    "**We have used the SMS Spam Data set in our example, which is available at the following location**\n",
    "* SMS Spam Collection Data Set (https://archive.ics.uci.edu/ml/datasets/sms+spam+collection)\n",
    "\n",
    "In this example our model will learn to classify a SMS message in spam or ham. \n"
   ]
  },
  {
   "cell_type": "code",
   "execution_count": 1,
   "metadata": {},
   "outputs": [],
   "source": [
    "# Download the SMS Spam data file if doesn't exist already\n",
    "import os\n",
    "import requests # This library is used to make requests to internet\n",
    "import zipfile\n",
    "\n",
    "data_file = \"data/SMSSpamCollection\"\n",
    "\n",
    "# Download and unzip the data file in data directory in case it doesn't exists already\n",
    "if not os.path.exists(data_file):\n",
    "    data_file_dir = os.path.dirname(data_file)\n",
    "    if not os.path.exists(data_file_dir): os.makedirs(data_file_dir)\n",
    "\n",
    "    # Storing url of dataset\n",
    "    url = 'https://archive.ics.uci.edu/ml/machine-learning-databases/00228/smsspamcollection.zip'\n",
    "    r = requests.get(url, allow_redirects=True)\n",
    "    zip_file_download = data_file_dir + '/smsspamcollection.zip'\n",
    "\n",
    "    # Writing the content of above request to 'smsspamcollection.zip' file\n",
    "    open(zip_file_download, 'wb').write(r.content)\n",
    "    \n",
    "    # Extract the zip file\n",
    "    with zipfile.ZipFile(zip_file_download,\"r\") as zip_ref:\n",
    "        zip_ref.extractall(data_file_dir)\n"
   ]
  },
  {
   "cell_type": "code",
   "execution_count": 2,
   "metadata": {},
   "outputs": [
    {
     "name": "stdout",
     "output_type": "stream",
     "text": [
      "Loading data (labels and sentences) from the SMSSpamCollection file...\n",
      "[0 0 1 0 0]\n",
      "['Go until jurong point, crazy.. Available only in bugis n great world la e buffet... Cine there got amore wat...'\n",
      " 'Ok lar... Joking wif u oni...'\n",
      " \"Free entry in 2 a wkly comp to win FA Cup final tkts 21st May 2005. Text FA to 87121 to receive entry question(std txt rate)T&C's apply 08452810075over18's\"\n",
      " 'U dun say so early hor... U c already then say...'\n",
      " \"Nah I don't think he goes to usf, he lives around here though\"]\n"
     ]
    }
   ],
   "source": [
    "from util import load_data_and_labels_from_csv_file, build_vocab, pad_sentences, text_to_sequence, save_vocab_json, generate_word_level_features\n",
    "\n",
    "print(\"Loading data (labels and sentences) from the SMSSpamCollection file...\")\n",
    "labels, sentences = load_data_and_labels_from_csv_file(data_file)\n",
    "\n",
    "print(labels[:5])\n",
    "print(sentences[:5])"
   ]
  },
  {
   "cell_type": "code",
   "execution_count": 3,
   "metadata": {},
   "outputs": [
    {
     "data": {
      "text/plain": [
       "array([list(['go', 'until', 'jurong', 'point', 'crazy', 'available', 'only', 'in', 'bugis', 'n', 'great', 'world', 'la', 'e', 'buffet', 'cine', 'there', 'got', 'amore', 'wat']),\n",
       "       list(['ok', 'lar', 'joking', 'wif', 'u', 'oni']),\n",
       "       list(['free', 'entry', 'in', '<n/>', 'a', 'wkly', 'comp', 'to', 'win', 'fa', 'cup', 'final', 'tkts', '21st', 'may', '<n/>', 'text', 'fa', 'to', '<n/>', 'to', 'receive', 'entry', 'question', 'std', 'txt', 'rate', 't', 'cs', 'apply', '0845281075over18s']),\n",
       "       list(['u', 'dun', 'say', 'so', 'early', 'hor', 'u', 'c', 'already', 'then', 'say']),\n",
       "       list(['nah', 'i', 'dont', 'think', 'he', 'goes', 'to', 'usf', 'he', 'lives', 'around', 'here', 'though'])],\n",
       "      dtype=object)"
      ]
     },
     "execution_count": 3,
     "metadata": {},
     "output_type": "execute_result"
    }
   ],
   "source": [
    "import numpy as np\n",
    "\n",
    "# Param defining max features consider in a sentence\n",
    "params = {'max_words_features': 50} \n",
    "\n",
    "# Generate word features for every message\n",
    "lines_words_level_features = generate_word_level_features(sentences, params['max_words_features'])\n",
    "# Redefine the max_words_features in case existing data contains the \n",
    "# max word featues less then define one for all the messages\n",
    "params['max_words_features'] = max([len(lines) for lines in lines_words_level_features])\n",
    "\n",
    "# Convert to numpy array\n",
    "lines_words_level_features = np.array(lines_words_level_features)\n",
    "lines_words_level_features[:5]"
   ]
  },
  {
   "cell_type": "code",
   "execution_count": 4,
   "metadata": {},
   "outputs": [
    {
     "name": "stdout",
     "output_type": "stream",
     "text": [
      "Build the vocabulary, assigning a unique index value to every word\n",
      "0 <UNK/> [0, inf]\n",
      "1 <PAD/> [1, inf]\n",
      "2 <n/> [2, 2585]\n",
      "3 i [3, 2260]\n",
      "4 to [4, 2211]\n",
      "5 you [5, 2108]\n",
      "6 a [6, 1423]\n",
      "7 the [7, 1305]\n",
      "8 u [8, 1156]\n",
      "9 and [9, 957]\n"
     ]
    }
   ],
   "source": [
    "# Build vocabulary, assigning a unique index value to every word\n",
    "# Special tokens <UNK/> for unknown words, <PAD/> for padding a sentence, \n",
    "# Other special tokens are <n\\> if a word contains all numeric charactrs, \n",
    "# and <sd\\> is all special characters with or without digits\n",
    "print(\"Build the vocabulary, assigning a unique index value to every word\")\n",
    "vocabulary = build_vocab(lines_words_level_features, max_vocab_size=10000)\n",
    "\n",
    "import itertools \n",
    "# Print 10 Vocabulary items\n",
    "for i, val in enumerate(itertools.islice(vocabulary, 10)):\n",
    "    print(i, val, vocabulary[val])"
   ]
  },
  {
   "cell_type": "code",
   "execution_count": 5,
   "metadata": {},
   "outputs": [
    {
     "name": "stdout",
     "output_type": "stream",
     "text": [
      "Padding sentences...\n",
      "The sequence length is:  50\n"
     ]
    },
    {
     "data": {
      "text/plain": [
       "['go',\n",
       " 'until',\n",
       " 'jurong',\n",
       " 'point',\n",
       " 'crazy',\n",
       " 'available',\n",
       " 'only',\n",
       " 'in',\n",
       " 'bugis',\n",
       " 'n',\n",
       " 'great',\n",
       " 'world',\n",
       " 'la',\n",
       " 'e',\n",
       " 'buffet',\n",
       " 'cine',\n",
       " 'there',\n",
       " 'got',\n",
       " 'amore',\n",
       " 'wat',\n",
       " '<PAD/>',\n",
       " '<PAD/>',\n",
       " '<PAD/>',\n",
       " '<PAD/>',\n",
       " '<PAD/>',\n",
       " '<PAD/>',\n",
       " '<PAD/>',\n",
       " '<PAD/>',\n",
       " '<PAD/>',\n",
       " '<PAD/>']"
      ]
     },
     "execution_count": 5,
     "metadata": {},
     "output_type": "execute_result"
    }
   ],
   "source": [
    "# Pad sentence\n",
    "print(\"Padding sentences...\")\n",
    "x_text = pad_sentences(lines_words_level_features, max_sequence_length=params['max_words_features'])\n",
    "\n",
    "# Get max sequence length, should be equal to max_words_features\n",
    "seq_len = len(x_text[0]) \n",
    "print(\"The sequence length is: \", seq_len)\n",
    "x_text[0][:30]"
   ]
  },
  {
   "cell_type": "code",
   "execution_count": 6,
   "metadata": {},
   "outputs": [
    {
     "data": {
      "text/plain": [
       "array([  48,  441, 4042,  776,  701,  670,   66,   10, 1217,   95,  128,\n",
       "        370, 1218,  149, 2765, 1219,   72,   59, 4043,  141,    1,    1,\n",
       "          1,    1,    1,    1,    1,    1,    1,    1,    1,    1,    1,\n",
       "          1,    1,    1,    1,    1,    1,    1,    1,    1,    1,    1,\n",
       "          1,    1,    1,    1,    1,    1])"
      ]
     },
     "execution_count": 6,
     "metadata": {},
     "output_type": "execute_result"
    }
   ],
   "source": [
    "# Represent sentence with word index, using word index to represent a sentence\n",
    "x = text_to_sequence(x_text, vocabulary)\n",
    "x[0]"
   ]
  },
  {
   "cell_type": "code",
   "execution_count": 7,
   "metadata": {},
   "outputs": [
    {
     "name": "stdout",
     "output_type": "stream",
     "text": [
      "[[ 142   41   23 2446  129    1    1    1    1    1    1    1    1    1\n",
      "     1    1    1    1    1    1    1    1    1    1    1    1    1    1\n",
      "     1    1    1    1    1    1    1    1    1    1    1    1    1    1\n",
      "     1    1    1    1    1    1    1    1]\n",
      " [1082  286  676   22    8  315  150   41  274    1    1    1    1    1\n",
      "     1    1    1    1    1    1    1    1    1    1    1    1    1    1\n",
      "     1    1    1    1    1    1    1    1    1    1    1    1    1    1\n",
      "     1    1    1    1    1    1    1    1]\n",
      " [  24   29   82  105   18    1    1    1    1    1    1    1    1    1\n",
      "     1    1    1    1    1    1    1    1    1    1    1    1    1    1\n",
      "     1    1    1    1    1    1    1    1    1    1    1    1    1    1\n",
      "     1    1    1    1    1    1    1    1]]\n",
      "[0 0 0]\n"
     ]
    }
   ],
   "source": [
    "# Shuffle data\n",
    "#np.random.seed(1) #same shuffling each time\n",
    "shuffle_indices = np.random.permutation(np.arange(len(labels)))\n",
    "x = x[shuffle_indices]\n",
    "labels = labels[shuffle_indices]\n",
    "print(x[:3])\n",
    "print(labels[:3])"
   ]
  },
  {
   "cell_type": "code",
   "execution_count": 8,
   "metadata": {},
   "outputs": [
    {
     "name": "stdout",
     "output_type": "stream",
     "text": [
      "Model: \"sequential\"\n",
      "_________________________________________________________________\n",
      "Layer (type)                 Output Shape              Param #   \n",
      "=================================================================\n",
      "embedding (Embedding)        (None, 50, 128)           1097088   \n",
      "_________________________________________________________________\n",
      "dropout (Dropout)            (None, 50, 128)           0         \n",
      "_________________________________________________________________\n",
      "lstm (LSTM)                  (None, 512)               1312768   \n",
      "_________________________________________________________________\n",
      "dropout_1 (Dropout)          (None, 512)               0         \n",
      "_________________________________________________________________\n",
      "dense (Dense)                (None, 1)                 513       \n",
      "=================================================================\n",
      "Total params: 2,410,369\n",
      "Trainable params: 2,410,369\n",
      "Non-trainable params: 0\n",
      "_________________________________________________________________\n",
      "None\n"
     ]
    }
   ],
   "source": [
    "import keras\n",
    "from keras.layers import Embedding, Dropout, LSTM, Dense\n",
    "from keras.models import Sequential\n",
    "\n",
    "\"\"\"\n",
    "## Build LSTM model\n",
    "\"\"\"\n",
    "vocab_size_or_total_features = len(vocabulary) \n",
    "\n",
    "embed_dim = 128 \n",
    "embedding_dropout_factor = 0.4 \n",
    "recurrent_dropout_factor = 0.2 \n",
    "LSTM_dropout_factor = 0.2 \n",
    "layer_dropout_factor = 0.2 \n",
    "LSTM_layer_sizes = [512]\n",
    "\n",
    "model = Sequential()\n",
    "model.add(Embedding(vocab_size_or_total_features, embed_dim, input_length=seq_len))\n",
    "model.add(Dropout(embedding_dropout_factor))\n",
    "for size in LSTM_layer_sizes[:-1]:\n",
    "    model.add(LSTM(units=size, return_sequences=True,\n",
    "                       recurrent_dropout=recurrent_dropout_factor,\n",
    "                       dropout=LSTM_dropout_factor))\n",
    "    model.add(Dropout(layer_dropout_factor))\n",
    "model.add(LSTM(units=LSTM_layer_sizes[-1], recurrent_dropout=recurrent_dropout_factor, dropout=LSTM_dropout_factor))\n",
    "model.add(Dropout(layer_dropout_factor))\n",
    "model.add(Dense(1, activation='sigmoid'))\n",
    "\n",
    "print(model.summary())"
   ]
  },
  {
   "cell_type": "code",
   "execution_count": 9,
   "metadata": {},
   "outputs": [
    {
     "name": "stdout",
     "output_type": "stream",
     "text": [
      "Traning Model...\n",
      "Epoch 1/50\n",
      "  1/140 [..............................] - ETA: 0s - loss: 0.6982 - accuracy: 0.1250WARNING:tensorflow:From /usr/local/lib/python3.8/site-packages/tensorflow/python/ops/summary_ops_v2.py:1277: stop (from tensorflow.python.eager.profiler) is deprecated and will be removed after 2020-07-01.\n",
      "Instructions for updating:\n",
      "use `tf.profiler.experimental.stop` instead.\n",
      "140/140 [==============================] - ETA: 0s - loss: 0.5872 - accuracy: 0.8340\n",
      "Epoch 00001: val_accuracy improved from -inf to 0.88072, saving model to model/cp.ckpt\n",
      "WARNING:tensorflow:From /usr/local/lib/python3.8/site-packages/tensorflow/python/training/tracking/tracking.py:111: Model.state_updates (from tensorflow.python.keras.engine.training) is deprecated and will be removed in a future version.\n",
      "Instructions for updating:\n",
      "This property should not be used in TensorFlow 2.0, as updates are applied automatically.\n",
      "WARNING:tensorflow:From /usr/local/lib/python3.8/site-packages/tensorflow/python/training/tracking/tracking.py:111: Layer.updates (from tensorflow.python.keras.engine.base_layer) is deprecated and will be removed in a future version.\n",
      "Instructions for updating:\n",
      "This property should not be used in TensorFlow 2.0, as updates are applied automatically.\n",
      "INFO:tensorflow:Assets written to: model/cp.ckpt/assets\n",
      "140/140 [==============================] - 75s 538ms/step - loss: 0.5872 - accuracy: 0.8340 - val_loss: 0.3101 - val_accuracy: 0.8807\n",
      "Epoch 2/50\n",
      "140/140 [==============================] - ETA: 0s - loss: 0.3288 - accuracy: 0.8623\n",
      "Epoch 00002: val_accuracy did not improve from 0.88072\n",
      "140/140 [==============================] - 77s 548ms/step - loss: 0.3288 - accuracy: 0.8623 - val_loss: 0.2812 - val_accuracy: 0.8807\n",
      "Epoch 3/50\n",
      "140/140 [==============================] - ETA: 0s - loss: 0.2942 - accuracy: 0.8616\n",
      "Epoch 00003: val_accuracy did not improve from 0.88072\n",
      "140/140 [==============================] - 85s 604ms/step - loss: 0.2942 - accuracy: 0.8616 - val_loss: 0.2440 - val_accuracy: 0.8780\n",
      "Epoch 4/50\n",
      "140/140 [==============================] - ETA: 0s - loss: 0.2167 - accuracy: 0.9042\n",
      "Epoch 00004: val_accuracy improved from 0.88072 to 0.96502, saving model to model/cp.ckpt\n",
      "INFO:tensorflow:Assets written to: model/cp.ckpt/assets\n",
      "140/140 [==============================] - 91s 652ms/step - loss: 0.2167 - accuracy: 0.9042 - val_loss: 0.1199 - val_accuracy: 0.9650\n",
      "Epoch 5/50\n",
      "140/140 [==============================] - ETA: 0s - loss: 0.1443 - accuracy: 0.9520\n",
      "Epoch 00005: val_accuracy improved from 0.96502 to 0.97758, saving model to model/cp.ckpt\n",
      "INFO:tensorflow:Assets written to: model/cp.ckpt/assets\n",
      "140/140 [==============================] - 95s 682ms/step - loss: 0.1443 - accuracy: 0.9520 - val_loss: 0.0881 - val_accuracy: 0.9776\n",
      "Epoch 6/50\n",
      "140/140 [==============================] - ETA: 0s - loss: 0.1249 - accuracy: 0.9610\n",
      "Epoch 00006: val_accuracy improved from 0.97758 to 0.98206, saving model to model/cp.ckpt\n",
      "INFO:tensorflow:Assets written to: model/cp.ckpt/assets\n",
      "140/140 [==============================] - 78s 554ms/step - loss: 0.1249 - accuracy: 0.9610 - val_loss: 0.0749 - val_accuracy: 0.9821\n",
      "Epoch 7/50\n",
      "140/140 [==============================] - ETA: 0s - loss: 0.1144 - accuracy: 0.9623\n",
      "Epoch 00007: val_accuracy improved from 0.98206 to 0.98565, saving model to model/cp.ckpt\n",
      "INFO:tensorflow:Assets written to: model/cp.ckpt/assets\n",
      "140/140 [==============================] - 77s 551ms/step - loss: 0.1144 - accuracy: 0.9623 - val_loss: 0.0680 - val_accuracy: 0.9857\n",
      "Epoch 8/50\n",
      "140/140 [==============================] - ETA: 0s - loss: 0.1028 - accuracy: 0.9686\n",
      "Epoch 00008: val_accuracy did not improve from 0.98565\n",
      "140/140 [==============================] - 73s 519ms/step - loss: 0.1028 - accuracy: 0.9686 - val_loss: 0.0607 - val_accuracy: 0.9857\n",
      "Epoch 9/50\n",
      "140/140 [==============================] - ETA: 0s - loss: 0.0971 - accuracy: 0.9693\n",
      "Epoch 00009: val_accuracy improved from 0.98565 to 0.98655, saving model to model/cp.ckpt\n",
      "INFO:tensorflow:Assets written to: model/cp.ckpt/assets\n",
      "140/140 [==============================] - 86s 614ms/step - loss: 0.0971 - accuracy: 0.9693 - val_loss: 0.0601 - val_accuracy: 0.9865\n",
      "Epoch 10/50\n",
      "140/140 [==============================] - ETA: 0s - loss: 0.0875 - accuracy: 0.9729\n",
      "Epoch 00010: val_accuracy improved from 0.98655 to 0.98744, saving model to model/cp.ckpt\n",
      "INFO:tensorflow:Assets written to: model/cp.ckpt/assets\n",
      "140/140 [==============================] - 97s 695ms/step - loss: 0.0875 - accuracy: 0.9729 - val_loss: 0.0543 - val_accuracy: 0.9874\n",
      "Epoch 11/50\n",
      "140/140 [==============================] - ETA: 0s - loss: 0.0854 - accuracy: 0.9742\n",
      "Epoch 00011: val_accuracy improved from 0.98744 to 0.98924, saving model to model/cp.ckpt\n",
      "INFO:tensorflow:Assets written to: model/cp.ckpt/assets\n",
      "140/140 [==============================] - 86s 615ms/step - loss: 0.0854 - accuracy: 0.9742 - val_loss: 0.0513 - val_accuracy: 0.9892\n",
      "Epoch 12/50\n",
      "140/140 [==============================] - ETA: 0s - loss: 0.0852 - accuracy: 0.9744\n",
      "Epoch 00012: val_accuracy did not improve from 0.98924\n",
      "140/140 [==============================] - 79s 566ms/step - loss: 0.0852 - accuracy: 0.9744 - val_loss: 0.0505 - val_accuracy: 0.9892\n",
      "Epoch 13/50\n",
      "140/140 [==============================] - ETA: 0s - loss: 0.0786 - accuracy: 0.9742\n",
      "Epoch 00013: val_accuracy improved from 0.98924 to 0.99103, saving model to model/cp.ckpt\n",
      "INFO:tensorflow:Assets written to: model/cp.ckpt/assets\n",
      "140/140 [==============================] - 100s 713ms/step - loss: 0.0786 - accuracy: 0.9742 - val_loss: 0.0516 - val_accuracy: 0.9910\n",
      "Epoch 14/50\n",
      "140/140 [==============================] - ETA: 0s - loss: 0.0748 - accuracy: 0.9780\n",
      "Epoch 00014: val_accuracy did not improve from 0.99103\n",
      "140/140 [==============================] - 112s 802ms/step - loss: 0.0748 - accuracy: 0.9780 - val_loss: 0.0464 - val_accuracy: 0.9892\n",
      "Epoch 15/50\n",
      "140/140 [==============================] - ETA: 0s - loss: 0.0699 - accuracy: 0.9789\n",
      "Epoch 00015: val_accuracy did not improve from 0.99103\n",
      "140/140 [==============================] - 94s 668ms/step - loss: 0.0699 - accuracy: 0.9789 - val_loss: 0.0450 - val_accuracy: 0.9910\n",
      "Epoch 16/50\n",
      "140/140 [==============================] - ETA: 0s - loss: 0.0664 - accuracy: 0.9814\n",
      "Epoch 00016: val_accuracy improved from 0.99103 to 0.99193, saving model to model/cp.ckpt\n",
      "INFO:tensorflow:Assets written to: model/cp.ckpt/assets\n",
      "140/140 [==============================] - 96s 687ms/step - loss: 0.0664 - accuracy: 0.9814 - val_loss: 0.0434 - val_accuracy: 0.9919\n",
      "Epoch 17/50\n",
      "140/140 [==============================] - ETA: 0s - loss: 0.0659 - accuracy: 0.9800\n",
      "Epoch 00017: val_accuracy did not improve from 0.99193\n",
      "140/140 [==============================] - 84s 599ms/step - loss: 0.0659 - accuracy: 0.9800 - val_loss: 0.0433 - val_accuracy: 0.9919\n",
      "Epoch 18/50\n",
      "140/140 [==============================] - ETA: 0s - loss: 0.0641 - accuracy: 0.9821\n",
      "Epoch 00018: val_accuracy improved from 0.99193 to 0.99283, saving model to model/cp.ckpt\n",
      "INFO:tensorflow:Assets written to: model/cp.ckpt/assets\n",
      "140/140 [==============================] - 112s 797ms/step - loss: 0.0641 - accuracy: 0.9821 - val_loss: 0.0406 - val_accuracy: 0.9928\n",
      "Epoch 19/50\n",
      "140/140 [==============================] - ETA: 0s - loss: 0.0547 - accuracy: 0.9847\n",
      "Epoch 00019: val_accuracy did not improve from 0.99283\n",
      "140/140 [==============================] - 104s 741ms/step - loss: 0.0547 - accuracy: 0.9847 - val_loss: 0.0391 - val_accuracy: 0.9919\n",
      "Epoch 20/50\n",
      "140/140 [==============================] - ETA: 0s - loss: 0.0540 - accuracy: 0.9854\n",
      "Epoch 00020: val_accuracy did not improve from 0.99283\n",
      "140/140 [==============================] - 100s 716ms/step - loss: 0.0540 - accuracy: 0.9854 - val_loss: 0.0388 - val_accuracy: 0.9919\n",
      "Epoch 21/50\n",
      "140/140 [==============================] - ETA: 0s - loss: 0.0486 - accuracy: 0.9843\n",
      "Epoch 00021: val_accuracy did not improve from 0.99283\n",
      "140/140 [==============================] - 85s 604ms/step - loss: 0.0486 - accuracy: 0.9843 - val_loss: 0.0378 - val_accuracy: 0.9928\n",
      "Epoch 22/50\n",
      "140/140 [==============================] - ETA: 0s - loss: 0.0486 - accuracy: 0.9856\n",
      "Epoch 00022: val_accuracy did not improve from 0.99283\n",
      "140/140 [==============================] - 88s 626ms/step - loss: 0.0486 - accuracy: 0.9856 - val_loss: 0.0374 - val_accuracy: 0.9928\n"
     ]
    },
    {
     "name": "stdout",
     "output_type": "stream",
     "text": [
      "Epoch 23/50\n",
      "140/140 [==============================] - ETA: 0s - loss: 0.0496 - accuracy: 0.9845\n",
      "Epoch 00023: val_accuracy did not improve from 0.99283\n",
      "140/140 [==============================] - 74s 527ms/step - loss: 0.0496 - accuracy: 0.9845 - val_loss: 0.0369 - val_accuracy: 0.9928\n",
      "Epoch 24/50\n",
      "140/140 [==============================] - ETA: 0s - loss: 0.0449 - accuracy: 0.9863\n",
      "Epoch 00024: val_accuracy did not improve from 0.99283\n",
      "140/140 [==============================] - 69s 490ms/step - loss: 0.0449 - accuracy: 0.9863 - val_loss: 0.0361 - val_accuracy: 0.9928\n",
      "Epoch 25/50\n",
      "140/140 [==============================] - ETA: 0s - loss: 0.0369 - accuracy: 0.9895\n",
      "Epoch 00025: val_accuracy did not improve from 0.99283\n",
      "140/140 [==============================] - 69s 495ms/step - loss: 0.0369 - accuracy: 0.9895 - val_loss: 0.0356 - val_accuracy: 0.9919\n",
      "Epoch 26/50\n",
      "140/140 [==============================] - ETA: 0s - loss: 0.0414 - accuracy: 0.9863\n",
      "Epoch 00026: val_accuracy did not improve from 0.99283\n",
      "140/140 [==============================] - 71s 506ms/step - loss: 0.0414 - accuracy: 0.9863 - val_loss: 0.0363 - val_accuracy: 0.9928\n",
      "Epoch 27/50\n",
      "140/140 [==============================] - ETA: 0s - loss: 0.0405 - accuracy: 0.9879\n",
      "Epoch 00027: val_accuracy improved from 0.99283 to 0.99372, saving model to model/cp.ckpt\n",
      "INFO:tensorflow:Assets written to: model/cp.ckpt/assets\n",
      "140/140 [==============================] - 75s 535ms/step - loss: 0.0405 - accuracy: 0.9879 - val_loss: 0.0347 - val_accuracy: 0.9937\n",
      "Epoch 28/50\n",
      "140/140 [==============================] - ETA: 0s - loss: 0.0353 - accuracy: 0.9890\n",
      "Epoch 00028: val_accuracy did not improve from 0.99372\n",
      "140/140 [==============================] - 68s 486ms/step - loss: 0.0353 - accuracy: 0.9890 - val_loss: 0.0342 - val_accuracy: 0.9928\n",
      "Epoch 29/50\n",
      "140/140 [==============================] - ETA: 0s - loss: 0.0354 - accuracy: 0.9899\n",
      "Epoch 00029: val_accuracy did not improve from 0.99372\n",
      "140/140 [==============================] - 69s 494ms/step - loss: 0.0354 - accuracy: 0.9899 - val_loss: 0.0348 - val_accuracy: 0.9937\n",
      "Epoch 30/50\n",
      "140/140 [==============================] - ETA: 0s - loss: 0.0365 - accuracy: 0.9879\n",
      "Epoch 00030: val_accuracy did not improve from 0.99372\n",
      "140/140 [==============================] - 71s 506ms/step - loss: 0.0365 - accuracy: 0.9879 - val_loss: 0.0343 - val_accuracy: 0.9937\n",
      "Epoch 31/50\n",
      "140/140 [==============================] - ETA: 0s - loss: 0.0369 - accuracy: 0.9890\n",
      "Epoch 00031: val_accuracy did not improve from 0.99372\n",
      "140/140 [==============================] - 87s 621ms/step - loss: 0.0369 - accuracy: 0.9890 - val_loss: 0.0342 - val_accuracy: 0.9937\n",
      "Epoch 32/50\n",
      "140/140 [==============================] - ETA: 0s - loss: 0.0342 - accuracy: 0.9892\n",
      "Epoch 00032: val_accuracy did not improve from 0.99372\n",
      "140/140 [==============================] - 69s 492ms/step - loss: 0.0342 - accuracy: 0.9892 - val_loss: 0.0350 - val_accuracy: 0.9937\n",
      "Epoch 33/50\n",
      "140/140 [==============================] - ETA: 0s - loss: 0.0294 - accuracy: 0.9917\n",
      "Epoch 00033: val_accuracy did not improve from 0.99372\n",
      "140/140 [==============================] - 69s 491ms/step - loss: 0.0294 - accuracy: 0.9917 - val_loss: 0.0354 - val_accuracy: 0.9937\n",
      "Epoch 34/50\n",
      "140/140 [==============================] - ETA: 0s - loss: 0.0280 - accuracy: 0.9922\n",
      "Epoch 00034: val_accuracy did not improve from 0.99372\n",
      "140/140 [==============================] - 68s 485ms/step - loss: 0.0280 - accuracy: 0.9922 - val_loss: 0.0353 - val_accuracy: 0.9937\n",
      "Epoch 35/50\n",
      "140/140 [==============================] - ETA: 0s - loss: 0.0277 - accuracy: 0.9908\n",
      "Epoch 00035: val_accuracy did not improve from 0.99372\n",
      "140/140 [==============================] - 67s 481ms/step - loss: 0.0277 - accuracy: 0.9908 - val_loss: 0.0361 - val_accuracy: 0.9910\n",
      "Epoch 36/50\n",
      "140/140 [==============================] - ETA: 0s - loss: 0.0285 - accuracy: 0.9917\n",
      "Epoch 00036: val_accuracy did not improve from 0.99372\n",
      "140/140 [==============================] - 66s 471ms/step - loss: 0.0285 - accuracy: 0.9917 - val_loss: 0.0342 - val_accuracy: 0.9928\n",
      "Epoch 37/50\n",
      "140/140 [==============================] - ETA: 0s - loss: 0.0252 - accuracy: 0.9924\n",
      "Epoch 00037: val_accuracy did not improve from 0.99372\n",
      "140/140 [==============================] - 66s 471ms/step - loss: 0.0252 - accuracy: 0.9924 - val_loss: 0.0337 - val_accuracy: 0.9937\n",
      "Epoch 38/50\n",
      "140/140 [==============================] - ETA: 0s - loss: 0.0285 - accuracy: 0.9913\n",
      "Epoch 00038: val_accuracy did not improve from 0.99372\n",
      "140/140 [==============================] - 66s 469ms/step - loss: 0.0285 - accuracy: 0.9913 - val_loss: 0.0346 - val_accuracy: 0.9937\n",
      "Epoch 39/50\n",
      "140/140 [==============================] - ETA: 0s - loss: 0.0247 - accuracy: 0.9913\n",
      "Epoch 00039: val_accuracy did not improve from 0.99372\n",
      "140/140 [==============================] - 72s 516ms/step - loss: 0.0247 - accuracy: 0.9913 - val_loss: 0.0377 - val_accuracy: 0.9937\n",
      "Epoch 40/50\n",
      "140/140 [==============================] - ETA: 0s - loss: 0.0170 - accuracy: 0.9935\n",
      "Epoch 00040: val_accuracy did not improve from 0.99372\n",
      "140/140 [==============================] - 70s 501ms/step - loss: 0.0170 - accuracy: 0.9935 - val_loss: 0.0383 - val_accuracy: 0.9937\n",
      "Epoch 41/50\n",
      "140/140 [==============================] - ETA: 0s - loss: 0.0252 - accuracy: 0.9924\n",
      "Epoch 00041: val_accuracy did not improve from 0.99372\n",
      "140/140 [==============================] - 70s 502ms/step - loss: 0.0252 - accuracy: 0.9924 - val_loss: 0.0364 - val_accuracy: 0.9937\n",
      "Epoch 42/50\n",
      "140/140 [==============================] - ETA: 0s - loss: 0.0252 - accuracy: 0.9926\n",
      "Epoch 00042: val_accuracy did not improve from 0.99372\n",
      "140/140 [==============================] - 71s 507ms/step - loss: 0.0252 - accuracy: 0.9926 - val_loss: 0.0346 - val_accuracy: 0.9919\n",
      "Epoch 43/50\n",
      "140/140 [==============================] - ETA: 0s - loss: 0.0257 - accuracy: 0.9915\n",
      "Epoch 00043: val_accuracy did not improve from 0.99372\n",
      "140/140 [==============================] - 70s 503ms/step - loss: 0.0257 - accuracy: 0.9915 - val_loss: 0.0353 - val_accuracy: 0.9928\n",
      "Epoch 44/50\n",
      "140/140 [==============================] - ETA: 0s - loss: 0.0195 - accuracy: 0.9946\n",
      "Epoch 00044: val_accuracy did not improve from 0.99372\n",
      "140/140 [==============================] - 71s 505ms/step - loss: 0.0195 - accuracy: 0.9946 - val_loss: 0.0363 - val_accuracy: 0.9937\n",
      "Epoch 45/50\n",
      "140/140 [==============================] - ETA: 0s - loss: 0.0208 - accuracy: 0.9928\n",
      "Epoch 00045: val_accuracy did not improve from 0.99372\n",
      "140/140 [==============================] - 72s 514ms/step - loss: 0.0208 - accuracy: 0.9928 - val_loss: 0.0364 - val_accuracy: 0.9928\n",
      "Epoch 46/50\n",
      "140/140 [==============================] - ETA: 0s - loss: 0.0240 - accuracy: 0.9930\n",
      "Epoch 00046: val_accuracy did not improve from 0.99372\n",
      "140/140 [==============================] - 70s 497ms/step - loss: 0.0240 - accuracy: 0.9930 - val_loss: 0.0351 - val_accuracy: 0.9937\n",
      "Epoch 47/50\n",
      "140/140 [==============================] - ETA: 0s - loss: 0.0181 - accuracy: 0.9951\n",
      "Epoch 00047: val_accuracy did not improve from 0.99372\n",
      "140/140 [==============================] - 69s 493ms/step - loss: 0.0181 - accuracy: 0.9951 - val_loss: 0.0377 - val_accuracy: 0.9937\n",
      "Epoch 48/50\n",
      "140/140 [==============================] - ETA: 0s - loss: 0.0182 - accuracy: 0.9937\n",
      "Epoch 00048: val_accuracy did not improve from 0.99372\n",
      "140/140 [==============================] - 69s 491ms/step - loss: 0.0182 - accuracy: 0.9937 - val_loss: 0.0352 - val_accuracy: 0.9937\n",
      "Epoch 49/50\n",
      "140/140 [==============================] - ETA: 0s - loss: 0.0211 - accuracy: 0.9930\n",
      "Epoch 00049: val_accuracy did not improve from 0.99372\n",
      "140/140 [==============================] - 67s 482ms/step - loss: 0.0211 - accuracy: 0.9930 - val_loss: 0.0356 - val_accuracy: 0.9928\n",
      "Epoch 50/50\n",
      "140/140 [==============================] - ETA: 0s - loss: 0.0185 - accuracy: 0.9946\n",
      "Epoch 00050: val_accuracy did not improve from 0.99372\n",
      "140/140 [==============================] - 68s 484ms/step - loss: 0.0185 - accuracy: 0.9946 - val_loss: 0.0366 - val_accuracy: 0.9928\n"
     ]
    }
   ],
   "source": [
    "from keras.callbacks import ModelCheckpoint \n",
    "from keras.optimizers import Adam\n",
    "\n",
    "checkpoint_path = \"model/cp.ckpt\"\n",
    "checkpoint_dir = os.path.dirname(checkpoint_path)\n",
    "\n",
    "# Create check_point dir if not already exists\n",
    "if not os.path.exists(checkpoint_dir): os.makedirs(checkpoint_dir)\n",
    "\n",
    "# Save Vocabulary in checkpoint directory\n",
    "vocab_file = checkpoint_dir + \"/vocab.json\"\n",
    "save_vocab_json(vocab_file, vocabulary, params)\n",
    "\n",
    "# Define the checkpoint\n",
    "checkpoint = ModelCheckpoint(filepath=checkpoint_path,  monitor='val_accuracy', verbose=1, save_best_only=True, mode='auto') # Create callback to save the weights\n",
    "# Trnsorboard settings\n",
    "tensorboard_callback = keras.callbacks.TensorBoard(log_dir=checkpoint_dir, histogram_freq=0)\n",
    "# Optimizer settings\n",
    "adam = Adam(lr=1e-5, beta_1=0.9, beta_2=0.999, epsilon=1e-08, decay=1e-8)\n",
    "model.compile(optimizer=adam, loss='binary_crossentropy', metrics=['accuracy'])\n",
    "\n",
    "# Paameters\n",
    "epochs = 50\n",
    "batch_size = 32\n",
    "verbose = 1\n",
    "validation_split = 0.2\n",
    "print(\"Traning Model...\")\n",
    "history = model.fit(x, labels, batch_size=batch_size, epochs=epochs, verbose=verbose, validation_split=validation_split, callbacks=[checkpoint, tensorboard_callback])"
   ]
  },
  {
   "cell_type": "code",
   "execution_count": 10,
   "metadata": {},
   "outputs": [
    {
     "name": "stdout",
     "output_type": "stream",
     "text": [
      "dict_keys(['loss', 'accuracy', 'val_loss', 'val_accuracy'])\n"
     ]
    },
    {
     "data": {
      "image/png": "[encoded data removed]",
      "text/plain": [
       "<Figure size 432x288 with 1 Axes>"
      ]
     },
     "metadata": {
      "needs_background": "light"
     },
     "output_type": "display_data"
    },
    {
     "data": {
      "image/png": "[encoded data removed]",
      "text/plain": [
       "<Figure size 432x288 with 1 Axes>"
      ]
     },
     "metadata": {
      "needs_background": "light"
     },
     "output_type": "display_data"
    }
   ],
   "source": [
    "# Plot the accuracy, Val_accuracy and loss\n",
    "import matplotlib.pyplot as plt\n",
    "\n",
    "# list all data in history\n",
    "print(history.history.keys())\n",
    "# summarize history for accuracy\n",
    "plt.plot(history.history['accuracy'])\n",
    "plt.plot(history.history['val_accuracy'])\n",
    "plt.title('model accuracy')\n",
    "plt.ylabel('accuracy')\n",
    "plt.xlabel('epoch')\n",
    "plt.legend(['train', 'test'], loc='upper left')\n",
    "plt.show()\n",
    "# summarize history for loss\n",
    "plt.plot(history.history['loss'])\n",
    "plt.plot(history.history['val_loss'])\n",
    "plt.title('model loss')\n",
    "plt.ylabel('loss')\n",
    "plt.xlabel('epoch')\n",
    "plt.legend(['train', 'test'], loc='upper left')\n",
    "plt.show()"
   ]
  },
  {
   "cell_type": "code",
   "execution_count": 11,
   "metadata": {},
   "outputs": [
    {
     "name": "stdout",
     "output_type": "stream",
     "text": [
      "Generate predictions\n",
      "Text is: \t Free entry in 2 a wkly comp to win FA Cup final tkts 21st May 2005. Text FA to 87121 to receive entry question(std txt rate)T&C's apply 08452810075over18's\n",
      "predicted spam with spam prob  [0.9999125]\n",
      "Text is: \t I'm gonna be home soon and i don't want to talk about this stuff anymore tonight, k? I've cried enough today.\n",
      "predicted ham with spam prob  [0.00023863]\n"
     ]
    }
   ],
   "source": [
    "# Prediction of given text\n",
    "\n",
    "x_text = [\"Free entry in 2 a wkly comp to win FA Cup final tkts 21st May 2005. Text FA to 87121 to receive entry question(std txt rate)T&C's apply 08452810075over18's\", \n",
    "          \"I'm gonna be home soon and i don't want to talk about this stuff anymore tonight, k? I've cried enough today.\"]\n",
    "\n",
    "lines_words_level_features = generate_word_level_features(x_text, params['max_words_features'])\n",
    "lines_words_level_features = np.array(lines_words_level_features)\n",
    "\n",
    "seq_len = params['max_words_features'] \n",
    "\n",
    "x = pad_sentences(lines_words_level_features, max_sequence_length=seq_len, is_max_sequence_length_modifiable=False)\n",
    "x = text_to_sequence(x, vocabulary)\n",
    "\n",
    "print(\"Generate predictions\")\n",
    "predictions = model.predict(x)\n",
    "count = 0 \n",
    "for text in x_text:\n",
    "    print(\"Text is: \\t\", text)\n",
    "    if (predictions[count] > 0.5):\n",
    "        print(\"predicted spam with spam prob \", predictions[count])\n",
    "    else:\n",
    "        print(\"predicted ham with spam prob \", predictions[count])\n",
    "    count += 1 \n"
   ]
  }
 ],
 "metadata": {
  "kernelspec": {
   "display_name": "Python 3",
   "language": "python",
   "name": "python3"
  },
  "language_info": {
   "codemirror_mode": {
    "name": "ipython",
    "version": 3
   },
   "file_extension": ".py",
   "mimetype": "text/x-python",
   "name": "python",
   "nbconvert_exporter": "python",
   "pygments_lexer": "ipython3",
   "version": "3.8.6"
  }
 },
 "nbformat": 4,
 "nbformat_minor": 4
}
